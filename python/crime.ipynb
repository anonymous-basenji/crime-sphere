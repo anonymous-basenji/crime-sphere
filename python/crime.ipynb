{
 "cells": [
  {
   "cell_type": "code",
   "execution_count": 29,
   "id": "initial_id",
   "metadata": {
    "collapsed": true,
    "ExecuteTime": {
     "end_time": "2025-04-05T19:45:51.439033400Z",
     "start_time": "2025-04-05T19:45:50.013557500Z"
    }
   },
   "outputs": [],
   "source": [
    "import pandas as pd\n",
    "\n",
    "# Data downloaded from Kaggle: https://www.kaggle.com/datasets/samithsachidanandan/crime-data-from-2020-to-present\n",
    "df = pd.read_csv('crime.csv', usecols=[\"LAT\", \"LON\", \"DATE OCC\", \"TIME OCC\", \"AREA NAME\", \"Crm Cd Desc\"])"
   ]
  },
  {
   "cell_type": "code",
   "execution_count": 30,
   "outputs": [],
   "source": [
    "df = df.rename(columns={'DATE OCC': \"date\", 'TIME OCC': 'time', \"AREA NAME\": \"area\", \"Crm Cd Desc\": \"category\", \"LAT\": \"latitude\", \"LON\": \"longitude\"})"
   ],
   "metadata": {
    "collapsed": false,
    "ExecuteTime": {
     "end_time": "2025-04-05T19:45:53.746271300Z",
     "start_time": "2025-04-05T19:45:53.725820600Z"
    }
   },
   "id": "eae7b12394c3c165"
  },
  {
   "cell_type": "code",
   "execution_count": null,
   "outputs": [],
   "source": [
    "df['date'] = pd.to_datetime(df['date'])  # convert to datetime\n",
    "df['year'] = df['date'].dt.year         # extract year"
   ],
   "metadata": {
    "collapsed": false
   },
   "id": "89715a8106d66f49"
  },
  {
   "cell_type": "code",
   "execution_count": 36,
   "outputs": [],
   "source": [
    "df = df[df['year'] == 2024]"
   ],
   "metadata": {
    "collapsed": false,
    "ExecuteTime": {
     "end_time": "2025-04-05T19:47:21.443049600Z",
     "start_time": "2025-04-05T19:47:21.422992200Z"
    }
   },
   "id": "7d9e8c19128e9064"
  },
  {
   "cell_type": "code",
   "execution_count": 70,
   "outputs": [],
   "source": [
    "def map_category(cat):\n",
    "    cat = cat.lower()\n",
    "\n",
    "    if \"vehicle\" in cat or \"driving without owner consent\" in cat or \"bike\" in cat or \"scooter\" in cat or \"boat\" in cat:\n",
    "        return \"Vehicle-Related Crime\"\n",
    "    elif \"failure to yield\" in cat or \"reckless driving\" in cat:\n",
    "        return \"Traffic Violation\"\n",
    "    elif \"burglary\" in cat or \"robbery\" in cat or \"till tap\" in cat:\n",
    "        return \"Burglary / Robbery\"\n",
    "    elif \"shoplifting\" in cat or \"theft\" in cat or \"bunco\" in cat or \"purse snatching\" in cat or \"pickpocket\" in cat or \"dishonest employee\" in cat or \"coin machine\" in cat:\n",
    "        return \"Theft / Larceny\"\n",
    "    elif \"vandalism\" in cat or \"property\" in cat or \"illegal dumping\" in cat:\n",
    "        return \"Vandalism / Property Damage\"\n",
    "    elif \"assault\" in cat or \"battery\" in cat:\n",
    "        return \"Assault / Battery\"\n",
    "    elif \"rape\" in cat or \"lewd\" in cat or \"sodomy\" in cat or \"oral copulation\" in cat or \"sex\" in cat or \"incest\" in cat or \"lascivious\" in cat or \"child pornography\" in cat or \"indecent exposure\" in cat or \"annoying\" in cat:\n",
    "        return \"Sex Offense\"\n",
    "    elif \"fraud\" in cat or \"embezzlement\" in cat or \"counterfeit\" in cat or \"forgery\" in cat or \"credit card\" in cat or \"insurance\" in cat or \"extortion\" in cat:\n",
    "        return \"Fraud / Financial Crime\"\n",
    "    elif \"threat\" in cat or \"harass\" in cat or \"stalking\" in cat or \"disturbing the peace\" in cat or \"threatening\" in cat:\n",
    "        return \"Threats / Harassment\"\n",
    "    elif \"homicide\" in cat or \"murder\" in cat or \"lynching\" in cat:\n",
    "        return \"Homicide\"\n",
    "    elif \"kidnapping\" in cat or \"false imprisonment\" in cat or \"child stealing\" in cat:\n",
    "        return \"Kidnapping / Abduction\"\n",
    "    elif \"restraining order\" in cat or \"court order\" in cat or \"contempt of court\" in cat:\n",
    "        return \"Court Order Violation\"\n",
    "    elif \"firearm\" in cat or \"weapon\" in cat or \"shots fired\" in cat or \"bomb\" in cat:\n",
    "        return \"Weapons / Firearms\"\n",
    "    elif \"arson\" in cat:\n",
    "        return \"Arson\"\n",
    "    elif \"prostitution\" in cat or \"pimping\" in cat or \"pandering\" in cat or \"human trafficking\" in cat:\n",
    "        return \"Human Trafficking / Exploitation\"\n",
    "    elif \"computer\" in cat or \"unauthorized access\" in cat:\n",
    "        return \"Cyber Crime\"\n",
    "    elif \"drug\" in cat:\n",
    "        return \"Drug Offense\"\n",
    "    elif \"animal\" in cat:\n",
    "        return \"Animal Abuse\"\n",
    "    elif \"public\" in cat or \"riot\" in cat or \"disrupt\" in cat or \"drunk roll\" in cat or \"failure to disperse\" in cat or \"resisting arrest\" in cat:\n",
    "        return \"Public Disturbance\"\n",
    "    elif \"trespassing\" in cat:\n",
    "        return \"Trespassing\"\n",
    "    elif \"child neglect\" in cat or \"child abandonment\" in cat or \"crm agnst chld\" in cat:\n",
    "        return \"Child Abuse\"\n",
    "    elif \"miscellaneous\" in cat or \"contributing\" in cat or \"conspiracy\" in cat:\n",
    "        return \"Other / Miscellaneous\"\n",
    "    else:\n",
    "        return \"Other / Miscellaneous\""
   ],
   "metadata": {
    "collapsed": false,
    "ExecuteTime": {
     "end_time": "2025-04-05T19:59:48.271509100Z",
     "start_time": "2025-04-05T19:59:48.267286900Z"
    }
   },
   "id": "d749a68f7596a3de"
  },
  {
   "cell_type": "code",
   "execution_count": 71,
   "outputs": [
    {
     "data": {
      "text/plain": "general_category\nVehicle-Related Crime               47073\nTheft / Larceny                     34389\nAssault / Battery                   13980\nVandalism / Property Damage         10329\nBurglary / Robbery                   7584\nTrespassing                          5577\nSex Offense                          2028\nThreats / Harassment                 1486\nCourt Order Violation                1384\nWeapons / Firearms                   1332\nOther / Miscellaneous                 756\nFraud / Financial Crime               407\nTraffic Violation                     375\nChild Abuse                           177\nArson                                 165\nPublic Disturbance                    149\nKidnapping / Abduction                149\nHomicide                               98\nHuman Trafficking / Exploitation       42\nCyber Crime                            22\nAnimal Abuse                           22\nDrug Offense                            1\nName: count, dtype: int64"
     },
     "execution_count": 71,
     "metadata": {},
     "output_type": "execute_result"
    }
   ],
   "source": [
    "df['general_category'] = df['category'].apply(map_category)\n",
    "\n",
    "df['general_category'].value_counts()"
   ],
   "metadata": {
    "collapsed": false,
    "ExecuteTime": {
     "end_time": "2025-04-05T19:59:50.097595Z",
     "start_time": "2025-04-05T19:59:50.039708100Z"
    }
   },
   "id": "2dc06a740ccf0102"
  },
  {
   "cell_type": "code",
   "execution_count": 74,
   "outputs": [],
   "source": [
    "df = df.drop(columns=['year'])"
   ],
   "metadata": {
    "collapsed": false,
    "ExecuteTime": {
     "end_time": "2025-04-05T20:01:22.301705200Z",
     "start_time": "2025-04-05T20:01:22.284470700Z"
    }
   },
   "id": "a8ff725ae03a9b0c"
  },
  {
   "cell_type": "code",
   "execution_count": 76,
   "outputs": [],
   "source": [
    "df = df.sort_values(by='date')"
   ],
   "metadata": {
    "collapsed": false,
    "ExecuteTime": {
     "end_time": "2025-04-05T20:01:49.335504300Z",
     "start_time": "2025-04-05T20:01:49.315930600Z"
    }
   },
   "id": "61da60d7e2189a78"
  },
  {
   "cell_type": "code",
   "execution_count": 80,
   "outputs": [],
   "source": [
    "df['category'] = df['category'].str.replace(',', '|')\n"
   ],
   "metadata": {
    "collapsed": false,
    "ExecuteTime": {
     "end_time": "2025-04-05T20:51:09.828407800Z",
     "start_time": "2025-04-05T20:51:09.793983100Z"
    }
   },
   "id": "5f761afa99e3529a"
  },
  {
   "cell_type": "code",
   "execution_count": 81,
   "outputs": [],
   "source": [
    "df.to_csv('cleaned_crime_data.csv', index=False)"
   ],
   "metadata": {
    "collapsed": false,
    "ExecuteTime": {
     "end_time": "2025-04-05T20:51:15.432672500Z",
     "start_time": "2025-04-05T20:51:14.994587800Z"
    }
   },
   "id": "518bc55f5440a8e0"
  }
 ],
 "metadata": {
  "kernelspec": {
   "display_name": "Python 3",
   "language": "python",
   "name": "python3"
  },
  "language_info": {
   "codemirror_mode": {
    "name": "ipython",
    "version": 2
   },
   "file_extension": ".py",
   "mimetype": "text/x-python",
   "name": "python",
   "nbconvert_exporter": "python",
   "pygments_lexer": "ipython2",
   "version": "2.7.6"
  }
 },
 "nbformat": 4,
 "nbformat_minor": 5
}
